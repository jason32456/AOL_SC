{
 "cells": [
  {
   "cell_type": "code",
   "execution_count": 1,
   "metadata": {},
   "outputs": [],
   "source": [
    "import numpy as np\n",
    "import matplotlib.pyplot as plt\n",
    "from sklearn.preprocessing import PolynomialFeatures\n",
    "from scipy.optimize import fsolve\n",
    "import csv"
   ]
  },
  {
   "cell_type": "code",
   "execution_count": 2,
   "metadata": {},
   "outputs": [],
   "source": [
    "x = []\n",
    "y = []\n",
    "with open('data-sc.csv', 'r') as csvfile:\n",
    "    reader = csv.reader(csvfile)\n",
    "    \n",
    "    x = next(reader)\n",
    "    y = next(reader)\n",
    "    \n",
    "# print(x[0][1:])\n",
    "# print(y)\n",
    "for i in range(len(x)):\n",
    "    x[i] = int(x[i][1:])\n",
    "    y[i] = int(y[i])\n",
    "    \n",
    "X = np.array(x).reshape(-1, 1)\n",
    "y = np.array(y)"
   ]
  },
  {
   "cell_type": "code",
   "execution_count": 3,
   "metadata": {},
   "outputs": [],
   "source": [
    "degree = 4\n",
    "\n",
    "poly = PolynomialFeatures(degree=degree)\n",
    "X_poly = poly.fit_transform(X)\n",
    "\n",
    "def newton_raphson(X, y, max_iter=100, tol=1e-6):\n",
    "    m, n = X.shape\n",
    "    theta = np.zeros(n)\n",
    "    \n",
    "    for _ in range(max_iter):\n",
    "        y_pred = X.dot(theta)\n",
    "        \n",
    "        residuals = y_pred - y\n",
    "        \n",
    "        gradient = X.T.dot(residuals) / m\n",
    "        \n",
    "        H = X.T.dot(X) / m\n",
    "        \n",
    "        delta_theta = np.linalg.solve(H, gradient)\n",
    "        theta -= delta_theta\n",
    "        \n",
    "        if np.linalg.norm(delta_theta) < tol:\n",
    "            break\n",
    "    \n",
    "    return theta\n",
    "\n",
    "theta = newton_raphson(X_poly, y)\n",
    "\n",
    "# print(\"Polynomial Coefficients (theta):\")\n",
    "# print(theta)"
   ]
  },
  {
   "cell_type": "code",
   "execution_count": 4,
   "metadata": {},
   "outputs": [
    {
     "name": "stdout",
     "output_type": "stream",
     "text": [
      "Time to start building the new warehouse: Month 153.76\n"
     ]
    }
   ],
   "source": [
    "def f(t, theta):\n",
    "    return sum(theta[i] * t**i for i in range(len(theta)))\n",
    "\n",
    "def find_capacity_exceed_time(f, theta, capacity=25000):\n",
    "    def equation(t):\n",
    "        return f(t, theta) - capacity\n",
    "    \n",
    "    initial_guess = 50   \n",
    "    \n",
    "    t_capacity_exceed = fsolve(equation, initial_guess)\n",
    "    return t_capacity_exceed[0]\n",
    "\n",
    "t_capacity_exceed = find_capacity_exceed_time(f, theta, capacity=25000)\n",
    "\n",
    "start_building_time = t_capacity_exceed - 13\n",
    "\n",
    "print(f\"Time to start building the new warehouse: Month {start_building_time:.3f}\")\n"
   ]
  }
 ],
 "metadata": {
  "kernelspec": {
   "display_name": "Python 3",
   "language": "python",
   "name": "python3"
  },
  "language_info": {
   "codemirror_mode": {
    "name": "ipython",
    "version": 3
   },
   "file_extension": ".py",
   "mimetype": "text/x-python",
   "name": "python",
   "nbconvert_exporter": "python",
   "pygments_lexer": "ipython3",
   "version": "3.10.12"
  }
 },
 "nbformat": 4,
 "nbformat_minor": 2
}
