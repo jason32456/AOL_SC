{
 "cells": [
  {
   "cell_type": "code",
   "execution_count": null,
   "metadata": {},
   "outputs": [],
   "source": [
    "import numpy as np\n",
    "import matplotlib.pyplot as plt\n",
    "import csv\n",
    "from sklearn.preprocessing import PolynomialFeatures\n",
    "from sklearn.linear_model import LinearRegression\n",
    "import pandas as pd"
   ]
  },
  {
   "cell_type": "code",
   "execution_count": null,
   "metadata": {},
   "outputs": [],
   "source": [
    "x = []\n",
    "y = []\n",
    "with open('data-sc.csv', 'r') as csvfile:\n",
    "    reader = csv.reader(csvfile)\n",
    "    \n",
    "    x = next(reader)\n",
    "    y = next(reader)\n",
    "    \n",
    "# print(x[0][1:])\n",
    "# print(y)\n",
    "for i in range(len(x)):\n",
    "    x[i] = int(x[i][1:])\n",
    "    y[i] = int(y[i])\n",
    "    \n",
    "X = np.array(x).reshape(-1, 1)\n",
    "y = np.array(y)"
   ]
  },
  {
   "cell_type": "code",
   "execution_count": null,
   "metadata": {},
   "outputs": [],
   "source": [
    "degree = 4\n",
    "\n",
    "poly = PolynomialFeatures(degree=degree)\n",
    "X_poly = poly.fit_transform(X)\n",
    "\n",
    "def newton_raphson(X, y, max_iter=100, tol=1e-6):\n",
    "    m, n = X.shape\n",
    "    theta = np.zeros(n)\n",
    "    \n",
    "    for _ in range(max_iter):\n",
    "        y_pred = X.dot(theta)\n",
    "        \n",
    "        residuals = y_pred - y\n",
    "        \n",
    "        gradient = X.T.dot(residuals) / m\n",
    "        \n",
    "        H = X.T.dot(X) / m\n",
    "        \n",
    "        # Update the parameters\n",
    "        delta_theta = np.linalg.solve(H, gradient)\n",
    "        theta -= delta_theta\n",
    "        \n",
    "        # Check for convergence\n",
    "        if np.linalg.norm(delta_theta) < tol:\n",
    "            break\n",
    "    \n",
    "    return theta\n",
    "\n",
    "theta = newton_raphson(X_poly, y)\n",
    "\n",
    "y_pred = X_poly.dot(theta)\n",
    "\n",
    "equation = \"y = \"\n",
    "for i, coef in enumerate(theta):\n",
    "    if i == 0:\n",
    "        equation += f\"{coef:.4f}\"\n",
    "    else:\n",
    "        equation += f\" + {coef:.4f} * x^{i}\"\n",
    "print(\"Polynomial Equation:\")\n",
    "print(equation)"
   ]
  }
 ],
 "metadata": {
  "kernelspec": {
   "display_name": "Python 3",
   "language": "python",
   "name": "python3"
  },
  "language_info": {
   "codemirror_mode": {
    "name": "ipython",
    "version": 3
   },
   "file_extension": ".py",
   "mimetype": "text/x-python",
   "name": "python",
   "nbconvert_exporter": "python",
   "pygments_lexer": "ipython3",
   "version": "3.10.12"
  }
 },
 "nbformat": 4,
 "nbformat_minor": 2
}
